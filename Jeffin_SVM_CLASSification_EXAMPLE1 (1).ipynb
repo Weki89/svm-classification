{
  "nbformat": 4,
  "nbformat_minor": 0,
  "metadata": {
    "colab": {
      "name": "Jeffin_SVM_CLASSification_EXAMPLE1.ipynb",
      "provenance": [],
      "collapsed_sections": []
    },
    "kernelspec": {
      "name": "python3",
      "display_name": "Python 3"
    }
  },
  "cells": [
    {
      "cell_type": "code",
      "metadata": {
        "id": "WyTquTI4Iejh"
      },
      "source": [
        ""
      ],
      "execution_count": null,
      "outputs": []
    },
    {
      "cell_type": "code",
      "metadata": {
        "id": "yTpzyhgWIqTX"
      },
      "source": [
        "from sklearn import datasets\n",
        "cancer_data = datasets.load_breast_cancer()"
      ],
      "execution_count": null,
      "outputs": []
    },
    {
      "cell_type": "code",
      "metadata": {
        "id": "0A__DBD_Izoe"
      },
      "source": [
        "x = cancer_data.data\n",
        "y = cancer_data.target"
      ],
      "execution_count": null,
      "outputs": []
    },
    {
      "cell_type": "code",
      "metadata": {
        "id": "GJzDqXGVI4l2"
      },
      "source": [
        "from sklearn.model_selection import train_test_split\n",
        "cancer_data = datasets.load_breast_cancer()\n",
        "X_train, X_test, y_train, y_test = train_test_split(cancer_data.data, cancer_data.target, test_size=0.4,random_state=109)"
      ],
      "execution_count": null,
      "outputs": []
    },
    {
      "cell_type": "code",
      "metadata": {
        "id": "iBDnjaJnI88C"
      },
      "source": [
        "from sklearn import svm #create a classifier\n",
        "cls = svm.SVC(kernel=\"linear\") #train the model\n",
        "cls.fit(X_train,y_train) #predict the response\n",
        "pred = cls.predict(X_test)"
      ],
      "execution_count": null,
      "outputs": []
    },
    {
      "cell_type": "code",
      "metadata": {
        "id": "hCR3CevuJB1j",
        "colab": {
          "base_uri": "https://localhost:8080/",
          "height": 218
        },
        "outputId": "eb521fa5-ec0b-4c09-c9ff-8a820115dce5"
      },
      "source": [
        "from sklearn import metrics #accuracy\n",
        "print(\"acuracy:\", metrics.accuracy_score(y_test,y_pred=pred)) #precision score\n",
        "print(\"precision:\", metrics.precision_score(y_test,y_pred=pred)) #recall score\n",
        "print(\"recall\" , metrics.recall_score(y_test,y_pred=pred))\n",
        "print(metrics.classification_report(y_test, y_pred=pred)) "
      ],
      "execution_count": null,
      "outputs": [
        {
          "output_type": "stream",
          "text": [
            "acuracy: 0.9649122807017544\n",
            "precision: 0.9777777777777777\n",
            "recall 0.967032967032967\n",
            "              precision    recall  f1-score   support\n",
            "\n",
            "           0       0.94      0.96      0.95       103\n",
            "           1       0.98      0.97      0.97       182\n",
            "\n",
            "    accuracy                           0.96       285\n",
            "   macro avg       0.96      0.96      0.96       285\n",
            "weighted avg       0.97      0.96      0.96       285\n",
            "\n"
          ],
          "name": "stdout"
        }
      ]
    },
    {
      "cell_type": "code",
      "metadata": {
        "id": "H6lMIoGUxDQO",
        "colab": {
          "base_uri": "https://localhost:8080/",
          "height": 282
        },
        "outputId": "82d79648-85b1-41d4-a314-b8f95789da35"
      },
      "source": [
        "import matplotlib.pyplot as plt\n",
        "from sklearn import datasets\n",
        "from sklearn import svm\n",
        "#loading the dataset\n",
        "letters = datasets.load_digits()\n",
        "#generating the classifier\n",
        "clf = svm.SVC(gamma=0.001, C=100)\n",
        "#training the classifier\n",
        "X,y = letters.data[:-10], letters.target[:-10]\n",
        "clf.fit(X,y)\n",
        "#predicting the output \n",
        "print(clf.predict(letters.data[:-10]))\n",
        "plt.imshow(letters.images[6], interpolation='nearest')\n",
        "plt.show()"
      ],
      "execution_count": null,
      "outputs": [
        {
          "output_type": "stream",
          "text": [
            "[0 1 2 ... 5 7 9]\n"
          ],
          "name": "stdout"
        },
        {
          "output_type": "display_data",
          "data": {
            "image/png": "[encoded data removed]",
            "text/plain": [
              "<Figure size 432x288 with 1 Axes>"
            ]
          },
          "metadata": {
            "tags": [],
            "needs_background": "light"
          }
        }
      ]
    }
  ]
}